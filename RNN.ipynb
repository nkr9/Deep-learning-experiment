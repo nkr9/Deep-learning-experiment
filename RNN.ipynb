{
  "cells": [
    {
      "cell_type": "markdown",
      "metadata": {
        "id": "view-in-github",
        "colab_type": "text"
      },
      "source": [
        "<a href=\"https://colab.research.google.com/github/nkr9/Deep-learning-experiment/blob/main/RNN.ipynb\" target=\"_parent\"><img src=\"https://colab.research.google.com/assets/colab-badge.svg\" alt=\"Open In Colab\"/></a>"
      ]
    },
    {
      "cell_type": "markdown",
      "id": "S4YJl1xR5r-K",
      "metadata": {
        "id": "S4YJl1xR5r-K"
      },
      "source": [
        "# Experiment 8: Sentiment Analysis on Text Data using Recurrent Neural Networks (RNN)"
      ]
    },
    {
      "cell_type": "markdown",
      "id": "83aa90a0-8ec5-4322-badd-b78e8cd1c47c",
      "metadata": {
        "id": "83aa90a0-8ec5-4322-badd-b78e8cd1c47c"
      },
      "source": [
        "### Objective:\n",
        "To build and train an RNN model for classifying the sentiment (positive or\n",
        "negativ.s."
      ]
    },
    {
      "cell_type": "markdown",
      "id": "58yXg3KZ6EJG",
      "metadata": {
        "id": "58yXg3KZ6EJG"
      },
      "source": [
        "## Dataset:\n",
        "  It is a collection of tweets, which divided into classes like hate speech, offensive and normal tweets."
      ]
    },
    {
      "cell_type": "markdown",
      "id": "Fz6H61UO6i66",
      "metadata": {
        "id": "Fz6H61UO6i66"
      },
      "source": [
        "### 1. Importing Libraries"
      ]
    },
    {
      "cell_type": "code",
      "execution_count": null,
      "id": "f78292c7-dd78-4c67-b300-143b896b7c77",
      "metadata": {
        "id": "f78292c7-dd78-4c67-b300-143b896b7c77"
      },
      "outputs": [],
      "source": [
        "import numpy as np\n",
        "import pandas as pd"
      ]
    },
    {
      "cell_type": "markdown",
      "id": "kH-qhEDY6pHa",
      "metadata": {
        "id": "kH-qhEDY6pHa"
      },
      "source": [
        "### 2. Dataset Loading"
      ]
    },
    {
      "cell_type": "code",
      "execution_count": null,
      "id": "522539f8-c2f2-4cd1-b559-f01aee1ecd48",
      "metadata": {
        "id": "522539f8-c2f2-4cd1-b559-f01aee1ecd48"
      },
      "outputs": [],
      "source": [
        "df = pd.read_csv(\"train.csv\")"
      ]
    },
    {
      "cell_type": "code",
      "execution_count": null,
      "id": "8bcbc6af-ade6-49de-8ea6-aeb75761841d",
      "metadata": {
        "colab": {
          "base_uri": "https://localhost:8080/",
          "height": 206
        },
        "id": "8bcbc6af-ade6-49de-8ea6-aeb75761841d",
        "outputId": "36f519f6-e0d4-4da0-8e8c-58f7ff974e5a"
      },
      "outputs": [
        {
          "data": {
            "text/html": [
              "<div>\n",
              "<style scoped>\n",
              "    .dataframe tbody tr th:only-of-type {\n",
              "        vertical-align: middle;\n",
              "    }\n",
              "\n",
              "    .dataframe tbody tr th {\n",
              "        vertical-align: top;\n",
              "    }\n",
              "\n",
              "    .dataframe thead th {\n",
              "        text-align: right;\n",
              "    }\n",
              "</style>\n",
              "<table border=\"1\" class=\"dataframe\">\n",
              "  <thead>\n",
              "    <tr style=\"text-align: right;\">\n",
              "      <th></th>\n",
              "      <th>count</th>\n",
              "      <th>hate_speech_count</th>\n",
              "      <th>offensive_language_count</th>\n",
              "      <th>neither_count</th>\n",
              "      <th>class</th>\n",
              "      <th>tweet</th>\n",
              "    </tr>\n",
              "  </thead>\n",
              "  <tbody>\n",
              "    <tr>\n",
              "      <th>0</th>\n",
              "      <td>3</td>\n",
              "      <td>0</td>\n",
              "      <td>0</td>\n",
              "      <td>3</td>\n",
              "      <td>2</td>\n",
              "      <td>!!! RT @mayasolovely: As a woman you shouldn't...</td>\n",
              "    </tr>\n",
              "    <tr>\n",
              "      <th>1</th>\n",
              "      <td>3</td>\n",
              "      <td>0</td>\n",
              "      <td>3</td>\n",
              "      <td>0</td>\n",
              "      <td>1</td>\n",
              "      <td>!!!!! RT @mleew17: boy dats cold...tyga dwn ba...</td>\n",
              "    </tr>\n",
              "    <tr>\n",
              "      <th>2</th>\n",
              "      <td>3</td>\n",
              "      <td>0</td>\n",
              "      <td>3</td>\n",
              "      <td>0</td>\n",
              "      <td>1</td>\n",
              "      <td>!!!!!!! RT @UrKindOfBrand Dawg!!!! RT @80sbaby...</td>\n",
              "    </tr>\n",
              "    <tr>\n",
              "      <th>3</th>\n",
              "      <td>3</td>\n",
              "      <td>0</td>\n",
              "      <td>2</td>\n",
              "      <td>1</td>\n",
              "      <td>1</td>\n",
              "      <td>!!!!!!!!! RT @C_G_Anderson: @viva_based she lo...</td>\n",
              "    </tr>\n",
              "    <tr>\n",
              "      <th>4</th>\n",
              "      <td>6</td>\n",
              "      <td>0</td>\n",
              "      <td>6</td>\n",
              "      <td>0</td>\n",
              "      <td>1</td>\n",
              "      <td>!!!!!!!!!!!!! RT @ShenikaRoberts: The shit you...</td>\n",
              "    </tr>\n",
              "  </tbody>\n",
              "</table>\n",
              "</div>"
            ],
            "text/plain": [
              "   count  hate_speech_count  offensive_language_count  neither_count  class  \\\n",
              "0      3                  0                         0              3      2   \n",
              "1      3                  0                         3              0      1   \n",
              "2      3                  0                         3              0      1   \n",
              "3      3                  0                         2              1      1   \n",
              "4      6                  0                         6              0      1   \n",
              "\n",
              "                                               tweet  \n",
              "0  !!! RT @mayasolovely: As a woman you shouldn't...  \n",
              "1  !!!!! RT @mleew17: boy dats cold...tyga dwn ba...  \n",
              "2  !!!!!!! RT @UrKindOfBrand Dawg!!!! RT @80sbaby...  \n",
              "3  !!!!!!!!! RT @C_G_Anderson: @viva_based she lo...  \n",
              "4  !!!!!!!!!!!!! RT @ShenikaRoberts: The shit you...  "
            ]
          },
          "execution_count": 3,
          "metadata": {},
          "output_type": "execute_result"
        }
      ],
      "source": [
        "df.head()"
      ]
    },
    {
      "cell_type": "markdown",
      "id": "DDPynIUJ68cx",
      "metadata": {
        "id": "DDPynIUJ68cx"
      },
      "source": [
        "### 3. Inspecting Dataset"
      ]
    },
    {
      "cell_type": "code",
      "execution_count": null,
      "id": "4f418e78-224d-427b-99ce-823192723451",
      "metadata": {
        "id": "4f418e78-224d-427b-99ce-823192723451",
        "outputId": "6bcd8295-7c87-4c28-d836-ebf77c5c46ce"
      },
      "outputs": [
        {
          "name": "stdout",
          "output_type": "stream",
          "text": [
            "<class 'pandas.core.frame.DataFrame'>\n",
            "RangeIndex: 24783 entries, 0 to 24782\n",
            "Data columns (total 6 columns):\n",
            " #   Column                    Non-Null Count  Dtype \n",
            "---  ------                    --------------  ----- \n",
            " 0   count                     24783 non-null  int64 \n",
            " 1   hate_speech_count         24783 non-null  int64 \n",
            " 2   offensive_language_count  24783 non-null  int64 \n",
            " 3   neither_count             24783 non-null  int64 \n",
            " 4   class                     24783 non-null  int64 \n",
            " 5   tweet                     24783 non-null  object\n",
            "dtypes: int64(5), object(1)\n",
            "memory usage: 1.1+ MB\n"
          ]
        }
      ],
      "source": [
        "df.info()"
      ]
    },
    {
      "cell_type": "code",
      "execution_count": null,
      "id": "10d7953d-55d4-4d31-84f6-ffd8306c9008",
      "metadata": {
        "id": "10d7953d-55d4-4d31-84f6-ffd8306c9008",
        "outputId": "cbb671a5-7c5a-43b4-e3e9-2dbd2ebe125e"
      },
      "outputs": [
        {
          "data": {
            "text/plain": [
              "count                       0\n",
              "hate_speech_count           0\n",
              "offensive_language_count    0\n",
              "neither_count               0\n",
              "class                       0\n",
              "tweet                       0\n",
              "dtype: int64"
            ]
          },
          "execution_count": 5,
          "metadata": {},
          "output_type": "execute_result"
        }
      ],
      "source": [
        "df.isnull().sum()"
      ]
    },
    {
      "cell_type": "code",
      "execution_count": null,
      "id": "1ded90f8-4326-4571-9b92-0c424a0f69cd",
      "metadata": {
        "id": "1ded90f8-4326-4571-9b92-0c424a0f69cd",
        "outputId": "4b5d6166-91ec-4c2b-e521-9e871c16379b"
      },
      "outputs": [
        {
          "data": {
            "text/html": [
              "<div>\n",
              "<style scoped>\n",
              "    .dataframe tbody tr th:only-of-type {\n",
              "        vertical-align: middle;\n",
              "    }\n",
              "\n",
              "    .dataframe tbody tr th {\n",
              "        vertical-align: top;\n",
              "    }\n",
              "\n",
              "    .dataframe thead th {\n",
              "        text-align: right;\n",
              "    }\n",
              "</style>\n",
              "<table border=\"1\" class=\"dataframe\">\n",
              "  <thead>\n",
              "    <tr style=\"text-align: right;\">\n",
              "      <th></th>\n",
              "      <th>count</th>\n",
              "      <th>hate_speech_count</th>\n",
              "      <th>offensive_language_count</th>\n",
              "      <th>neither_count</th>\n",
              "      <th>class</th>\n",
              "    </tr>\n",
              "  </thead>\n",
              "  <tbody>\n",
              "    <tr>\n",
              "      <th>count</th>\n",
              "      <td>24783.000000</td>\n",
              "      <td>24783.000000</td>\n",
              "      <td>24783.000000</td>\n",
              "      <td>24783.000000</td>\n",
              "      <td>24783.000000</td>\n",
              "    </tr>\n",
              "    <tr>\n",
              "      <th>mean</th>\n",
              "      <td>3.243473</td>\n",
              "      <td>0.280515</td>\n",
              "      <td>2.413711</td>\n",
              "      <td>0.549247</td>\n",
              "      <td>1.110277</td>\n",
              "    </tr>\n",
              "    <tr>\n",
              "      <th>std</th>\n",
              "      <td>0.883060</td>\n",
              "      <td>0.631851</td>\n",
              "      <td>1.399459</td>\n",
              "      <td>1.113299</td>\n",
              "      <td>0.462089</td>\n",
              "    </tr>\n",
              "    <tr>\n",
              "      <th>min</th>\n",
              "      <td>3.000000</td>\n",
              "      <td>0.000000</td>\n",
              "      <td>0.000000</td>\n",
              "      <td>0.000000</td>\n",
              "      <td>0.000000</td>\n",
              "    </tr>\n",
              "    <tr>\n",
              "      <th>25%</th>\n",
              "      <td>3.000000</td>\n",
              "      <td>0.000000</td>\n",
              "      <td>2.000000</td>\n",
              "      <td>0.000000</td>\n",
              "      <td>1.000000</td>\n",
              "    </tr>\n",
              "    <tr>\n",
              "      <th>50%</th>\n",
              "      <td>3.000000</td>\n",
              "      <td>0.000000</td>\n",
              "      <td>3.000000</td>\n",
              "      <td>0.000000</td>\n",
              "      <td>1.000000</td>\n",
              "    </tr>\n",
              "    <tr>\n",
              "      <th>75%</th>\n",
              "      <td>3.000000</td>\n",
              "      <td>0.000000</td>\n",
              "      <td>3.000000</td>\n",
              "      <td>0.000000</td>\n",
              "      <td>1.000000</td>\n",
              "    </tr>\n",
              "    <tr>\n",
              "      <th>max</th>\n",
              "      <td>9.000000</td>\n",
              "      <td>7.000000</td>\n",
              "      <td>9.000000</td>\n",
              "      <td>9.000000</td>\n",
              "      <td>2.000000</td>\n",
              "    </tr>\n",
              "  </tbody>\n",
              "</table>\n",
              "</div>"
            ],
            "text/plain": [
              "              count  hate_speech_count  offensive_language_count  \\\n",
              "count  24783.000000       24783.000000              24783.000000   \n",
              "mean       3.243473           0.280515                  2.413711   \n",
              "std        0.883060           0.631851                  1.399459   \n",
              "min        3.000000           0.000000                  0.000000   \n",
              "25%        3.000000           0.000000                  2.000000   \n",
              "50%        3.000000           0.000000                  3.000000   \n",
              "75%        3.000000           0.000000                  3.000000   \n",
              "max        9.000000           7.000000                  9.000000   \n",
              "\n",
              "       neither_count         class  \n",
              "count   24783.000000  24783.000000  \n",
              "mean        0.549247      1.110277  \n",
              "std         1.113299      0.462089  \n",
              "min         0.000000      0.000000  \n",
              "25%         0.000000      1.000000  \n",
              "50%         0.000000      1.000000  \n",
              "75%         0.000000      1.000000  \n",
              "max         9.000000      2.000000  "
            ]
          },
          "execution_count": 6,
          "metadata": {},
          "output_type": "execute_result"
        }
      ],
      "source": [
        "df.describe()"
      ]
    },
    {
      "cell_type": "markdown",
      "id": "UYorxmPB7DvL",
      "metadata": {
        "id": "UYorxmPB7DvL"
      },
      "source": [
        "### 4. Creating Labels"
      ]
    },
    {
      "cell_type": "code",
      "execution_count": null,
      "id": "edb29c6c-c694-425d-afc3-621e59e9700d",
      "metadata": {
        "id": "edb29c6c-c694-425d-afc3-621e59e9700d"
      },
      "outputs": [],
      "source": [
        "df[\"labels\"] = df['class'].map({0:\"Hate Speech\", 1:\"Offensive Language\", 2:\"No hate or offensive\"})"
      ]
    },
    {
      "cell_type": "code",
      "execution_count": null,
      "id": "de078924-8209-4500-b4d6-e5f162e81308",
      "metadata": {
        "colab": {
          "base_uri": "https://localhost:8080/",
          "height": 206
        },
        "id": "de078924-8209-4500-b4d6-e5f162e81308",
        "outputId": "3664cbd1-3493-447e-c0ea-ff55172de1da"
      },
      "outputs": [
        {
          "data": {
            "text/html": [
              "<div>\n",
              "<style scoped>\n",
              "    .dataframe tbody tr th:only-of-type {\n",
              "        vertical-align: middle;\n",
              "    }\n",
              "\n",
              "    .dataframe tbody tr th {\n",
              "        vertical-align: top;\n",
              "    }\n",
              "\n",
              "    .dataframe thead th {\n",
              "        text-align: right;\n",
              "    }\n",
              "</style>\n",
              "<table border=\"1\" class=\"dataframe\">\n",
              "  <thead>\n",
              "    <tr style=\"text-align: right;\">\n",
              "      <th></th>\n",
              "      <th>count</th>\n",
              "      <th>hate_speech_count</th>\n",
              "      <th>offensive_language_count</th>\n",
              "      <th>neither_count</th>\n",
              "      <th>class</th>\n",
              "      <th>tweet</th>\n",
              "      <th>labels</th>\n",
              "    </tr>\n",
              "  </thead>\n",
              "  <tbody>\n",
              "    <tr>\n",
              "      <th>0</th>\n",
              "      <td>3</td>\n",
              "      <td>0</td>\n",
              "      <td>0</td>\n",
              "      <td>3</td>\n",
              "      <td>2</td>\n",
              "      <td>!!! RT @mayasolovely: As a woman you shouldn't...</td>\n",
              "      <td>No hate or offensive</td>\n",
              "    </tr>\n",
              "    <tr>\n",
              "      <th>1</th>\n",
              "      <td>3</td>\n",
              "      <td>0</td>\n",
              "      <td>3</td>\n",
              "      <td>0</td>\n",
              "      <td>1</td>\n",
              "      <td>!!!!! RT @mleew17: boy dats cold...tyga dwn ba...</td>\n",
              "      <td>Offensive Language</td>\n",
              "    </tr>\n",
              "    <tr>\n",
              "      <th>2</th>\n",
              "      <td>3</td>\n",
              "      <td>0</td>\n",
              "      <td>3</td>\n",
              "      <td>0</td>\n",
              "      <td>1</td>\n",
              "      <td>!!!!!!! RT @UrKindOfBrand Dawg!!!! RT @80sbaby...</td>\n",
              "      <td>Offensive Language</td>\n",
              "    </tr>\n",
              "    <tr>\n",
              "      <th>3</th>\n",
              "      <td>3</td>\n",
              "      <td>0</td>\n",
              "      <td>2</td>\n",
              "      <td>1</td>\n",
              "      <td>1</td>\n",
              "      <td>!!!!!!!!! RT @C_G_Anderson: @viva_based she lo...</td>\n",
              "      <td>Offensive Language</td>\n",
              "    </tr>\n",
              "    <tr>\n",
              "      <th>4</th>\n",
              "      <td>6</td>\n",
              "      <td>0</td>\n",
              "      <td>6</td>\n",
              "      <td>0</td>\n",
              "      <td>1</td>\n",
              "      <td>!!!!!!!!!!!!! RT @ShenikaRoberts: The shit you...</td>\n",
              "      <td>Offensive Language</td>\n",
              "    </tr>\n",
              "  </tbody>\n",
              "</table>\n",
              "</div>"
            ],
            "text/plain": [
              "   count  hate_speech_count  offensive_language_count  neither_count  class  \\\n",
              "0      3                  0                         0              3      2   \n",
              "1      3                  0                         3              0      1   \n",
              "2      3                  0                         3              0      1   \n",
              "3      3                  0                         2              1      1   \n",
              "4      6                  0                         6              0      1   \n",
              "\n",
              "                                               tweet                labels  \n",
              "0  !!! RT @mayasolovely: As a woman you shouldn't...  No hate or offensive  \n",
              "1  !!!!! RT @mleew17: boy dats cold...tyga dwn ba...    Offensive Language  \n",
              "2  !!!!!!! RT @UrKindOfBrand Dawg!!!! RT @80sbaby...    Offensive Language  \n",
              "3  !!!!!!!!! RT @C_G_Anderson: @viva_based she lo...    Offensive Language  \n",
              "4  !!!!!!!!!!!!! RT @ShenikaRoberts: The shit you...    Offensive Language  "
            ]
          },
          "execution_count": 8,
          "metadata": {},
          "output_type": "execute_result"
        }
      ],
      "source": [
        "df.head()"
      ]
    },
    {
      "cell_type": "code",
      "execution_count": null,
      "id": "7650ebab-851a-4aaa-8455-4ff517abc1f1",
      "metadata": {
        "id": "7650ebab-851a-4aaa-8455-4ff517abc1f1"
      },
      "outputs": [],
      "source": [
        "data = df[[\"tweet\",\"labels\"]]"
      ]
    },
    {
      "cell_type": "code",
      "execution_count": null,
      "id": "5c083871-6cb1-428c-8105-eab07bceaa42",
      "metadata": {
        "colab": {
          "base_uri": "https://localhost:8080/",
          "height": 423
        },
        "id": "5c083871-6cb1-428c-8105-eab07bceaa42",
        "outputId": "262ba9fa-1fdf-49f7-fbbd-2e9eae804039"
      },
      "outputs": [
        {
          "data": {
            "text/html": [
              "<div>\n",
              "<style scoped>\n",
              "    .dataframe tbody tr th:only-of-type {\n",
              "        vertical-align: middle;\n",
              "    }\n",
              "\n",
              "    .dataframe tbody tr th {\n",
              "        vertical-align: top;\n",
              "    }\n",
              "\n",
              "    .dataframe thead th {\n",
              "        text-align: right;\n",
              "    }\n",
              "</style>\n",
              "<table border=\"1\" class=\"dataframe\">\n",
              "  <thead>\n",
              "    <tr style=\"text-align: right;\">\n",
              "      <th></th>\n",
              "      <th>tweet</th>\n",
              "      <th>labels</th>\n",
              "    </tr>\n",
              "  </thead>\n",
              "  <tbody>\n",
              "    <tr>\n",
              "      <th>0</th>\n",
              "      <td>!!! RT @mayasolovely: As a woman you shouldn't...</td>\n",
              "      <td>No hate or offensive</td>\n",
              "    </tr>\n",
              "    <tr>\n",
              "      <th>1</th>\n",
              "      <td>!!!!! RT @mleew17: boy dats cold...tyga dwn ba...</td>\n",
              "      <td>Offensive Language</td>\n",
              "    </tr>\n",
              "    <tr>\n",
              "      <th>2</th>\n",
              "      <td>!!!!!!! RT @UrKindOfBrand Dawg!!!! RT @80sbaby...</td>\n",
              "      <td>Offensive Language</td>\n",
              "    </tr>\n",
              "    <tr>\n",
              "      <th>3</th>\n",
              "      <td>!!!!!!!!! RT @C_G_Anderson: @viva_based she lo...</td>\n",
              "      <td>Offensive Language</td>\n",
              "    </tr>\n",
              "    <tr>\n",
              "      <th>4</th>\n",
              "      <td>!!!!!!!!!!!!! RT @ShenikaRoberts: The shit you...</td>\n",
              "      <td>Offensive Language</td>\n",
              "    </tr>\n",
              "    <tr>\n",
              "      <th>...</th>\n",
              "      <td>...</td>\n",
              "      <td>...</td>\n",
              "    </tr>\n",
              "    <tr>\n",
              "      <th>24778</th>\n",
              "      <td>you's a muthaf***in lie &amp;#8220;@LifeAsKing: @2...</td>\n",
              "      <td>Offensive Language</td>\n",
              "    </tr>\n",
              "    <tr>\n",
              "      <th>24779</th>\n",
              "      <td>you've gone and broke the wrong heart baby, an...</td>\n",
              "      <td>No hate or offensive</td>\n",
              "    </tr>\n",
              "    <tr>\n",
              "      <th>24780</th>\n",
              "      <td>young buck wanna eat!!.. dat nigguh like I ain...</td>\n",
              "      <td>Offensive Language</td>\n",
              "    </tr>\n",
              "    <tr>\n",
              "      <th>24781</th>\n",
              "      <td>youu got wild bitches tellin you lies</td>\n",
              "      <td>Offensive Language</td>\n",
              "    </tr>\n",
              "    <tr>\n",
              "      <th>24782</th>\n",
              "      <td>~~Ruffled | Ntac Eileen Dahlia - Beautiful col...</td>\n",
              "      <td>No hate or offensive</td>\n",
              "    </tr>\n",
              "  </tbody>\n",
              "</table>\n",
              "<p>24783 rows × 2 columns</p>\n",
              "</div>"
            ],
            "text/plain": [
              "                                                   tweet                labels\n",
              "0      !!! RT @mayasolovely: As a woman you shouldn't...  No hate or offensive\n",
              "1      !!!!! RT @mleew17: boy dats cold...tyga dwn ba...    Offensive Language\n",
              "2      !!!!!!! RT @UrKindOfBrand Dawg!!!! RT @80sbaby...    Offensive Language\n",
              "3      !!!!!!!!! RT @C_G_Anderson: @viva_based she lo...    Offensive Language\n",
              "4      !!!!!!!!!!!!! RT @ShenikaRoberts: The shit you...    Offensive Language\n",
              "...                                                  ...                   ...\n",
              "24778  you's a muthaf***in lie &#8220;@LifeAsKing: @2...    Offensive Language\n",
              "24779  you've gone and broke the wrong heart baby, an...  No hate or offensive\n",
              "24780  young buck wanna eat!!.. dat nigguh like I ain...    Offensive Language\n",
              "24781              youu got wild bitches tellin you lies    Offensive Language\n",
              "24782  ~~Ruffled | Ntac Eileen Dahlia - Beautiful col...  No hate or offensive\n",
              "\n",
              "[24783 rows x 2 columns]"
            ]
          },
          "execution_count": 10,
          "metadata": {},
          "output_type": "execute_result"
        }
      ],
      "source": [
        "data"
      ]
    },
    {
      "cell_type": "markdown",
      "id": "YXJY985W7c59",
      "metadata": {
        "id": "YXJY985W7c59"
      },
      "source": [
        "### 5. Data Preprocessing and Data Cleaning"
      ]
    },
    {
      "cell_type": "code",
      "execution_count": null,
      "id": "V0eRFi_h7VMq",
      "metadata": {
        "colab": {
          "base_uri": "https://localhost:8080/"
        },
        "id": "V0eRFi_h7VMq",
        "outputId": "1234bfee-3389-45bd-fcf6-6830f23306fa"
      },
      "outputs": [
        {
          "name": "stdout",
          "output_type": "stream",
          "text": [
            "Requirement already satisfied: nltk in c:\\users\\rajse\\anaconda3\\lib\\site-packages (3.8.1)\n",
            "Requirement already satisfied: click in c:\\users\\rajse\\anaconda3\\lib\\site-packages (from nltk) (8.1.7)\n",
            "Requirement already satisfied: joblib in c:\\users\\rajse\\anaconda3\\lib\\site-packages (from nltk) (1.4.2)\n",
            "Requirement already satisfied: regex>=2021.8.3 in c:\\users\\rajse\\anaconda3\\lib\\site-packages (from nltk) (2023.10.3)\n",
            "Requirement already satisfied: tqdm in c:\\users\\rajse\\anaconda3\\lib\\site-packages (from nltk) (4.66.4)\n",
            "Requirement already satisfied: colorama in c:\\users\\rajse\\anaconda3\\lib\\site-packages (from click->nltk) (0.4.6)\n"
          ]
        }
      ],
      "source": [
        "import re\n",
        "!pip install nltk\n",
        "import nltk\n",
        "import string\n",
        "from tensorflow.keras.preprocessing.text import Tokenizer\n",
        "token= Tokenizer(oov_token='<nothing>')"
      ]
    },
    {
      "cell_type": "code",
      "execution_count": null,
      "id": "f45f7ea1-2e52-4c31-9eab-6e111aef4cae",
      "metadata": {
        "colab": {
          "base_uri": "https://localhost:8080/"
        },
        "id": "f45f7ea1-2e52-4c31-9eab-6e111aef4cae",
        "outputId": "236fdfd6-d276-4b39-e73e-b438e1bd117a"
      },
      "outputs": [
        {
          "name": "stderr",
          "output_type": "stream",
          "text": [
            "[nltk_data] Downloading package stopwords to\n",
            "[nltk_data]     C:\\Users\\rajse\\AppData\\Roaming\\nltk_data...\n",
            "[nltk_data]   Package stopwords is already up-to-date!\n"
          ]
        }
      ],
      "source": [
        "# Importing stop words\n",
        "nltk.download('stopwords')\n",
        "from nltk.corpus import stopwords\n",
        "stopwords = set(stopwords.words(\"english\"))"
      ]
    },
    {
      "cell_type": "code",
      "execution_count": null,
      "id": "93c775a3-aed3-4544-ad79-be8c33f7e729",
      "metadata": {
        "id": "93c775a3-aed3-4544-ad79-be8c33f7e729"
      },
      "outputs": [],
      "source": [
        "# Import stemming\n",
        "stemmer = nltk.SnowballStemmer(\"english\")"
      ]
    },
    {
      "cell_type": "code",
      "execution_count": null,
      "id": "bbc48b5d-1260-4b9e-8263-202f7c234cd8",
      "metadata": {
        "id": "bbc48b5d-1260-4b9e-8263-202f7c234cd8"
      },
      "outputs": [],
      "source": [
        "# Data cleaning\n",
        "def clean_data(text):\n",
        "    text = str(text).lower()\n",
        "    text = re.sub(r'https?://\\S+|www\\.S+','',text)\n",
        "    text = re.sub(r'\\[.*?\\]','',text)\n",
        "    text = re.sub('<.*?>+','',text)\n",
        "    text = re.sub('[%s]'%re.escape(string.punctuation),'',text)\n",
        "    text = re.sub('\\n','',text)\n",
        "    #stop words removal\n",
        "    text = [word for word in text.split(' ') if word not in stopwords]\n",
        "    text = \" \".join(text)\n",
        "    #stemming the text\n",
        "    text = [stemmer.stem(word) for word in text.split(' ')]\n",
        "    text = \" \".join(text)\n",
        "    return text"
      ]
    },
    {
      "cell_type": "code",
      "execution_count": null,
      "id": "6937f550-a16d-46e9-bea6-4f4502f60ed5",
      "metadata": {
        "colab": {
          "base_uri": "https://localhost:8080/"
        },
        "id": "6937f550-a16d-46e9-bea6-4f4502f60ed5",
        "outputId": "0dc71751-7ae1-42a2-a39f-46882bb45ca7"
      },
      "outputs": [
        {
          "name": "stderr",
          "output_type": "stream",
          "text": [
            "C:\\Users\\rajse\\AppData\\Local\\Temp\\ipykernel_17932\\1832165696.py:1: SettingWithCopyWarning: \n",
            "A value is trying to be set on a copy of a slice from a DataFrame.\n",
            "Try using .loc[row_indexer,col_indexer] = value instead\n",
            "\n",
            "See the caveats in the documentation: https://pandas.pydata.org/pandas-docs/stable/user_guide/indexing.html#returning-a-view-versus-a-copy\n",
            "  data[\"tweet\"] = data[\"tweet\"].apply(clean_data)\n"
          ]
        }
      ],
      "source": [
        "data[\"tweet\"] = data[\"tweet\"].apply(clean_data)"
      ]
    },
    {
      "cell_type": "code",
      "execution_count": null,
      "id": "08796e6f-424d-4a87-a900-6bdb62565867",
      "metadata": {
        "colab": {
          "base_uri": "https://localhost:8080/",
          "height": 423
        },
        "id": "08796e6f-424d-4a87-a900-6bdb62565867",
        "outputId": "0135fe0c-8873-49c7-f7ac-7b8693b76598"
      },
      "outputs": [
        {
          "data": {
            "text/html": [
              "<div>\n",
              "<style scoped>\n",
              "    .dataframe tbody tr th:only-of-type {\n",
              "        vertical-align: middle;\n",
              "    }\n",
              "\n",
              "    .dataframe tbody tr th {\n",
              "        vertical-align: top;\n",
              "    }\n",
              "\n",
              "    .dataframe thead th {\n",
              "        text-align: right;\n",
              "    }\n",
              "</style>\n",
              "<table border=\"1\" class=\"dataframe\">\n",
              "  <thead>\n",
              "    <tr style=\"text-align: right;\">\n",
              "      <th></th>\n",
              "      <th>tweet</th>\n",
              "      <th>labels</th>\n",
              "    </tr>\n",
              "  </thead>\n",
              "  <tbody>\n",
              "    <tr>\n",
              "      <th>0</th>\n",
              "      <td>rt mayasolov woman shouldnt complain clean ho...</td>\n",
              "      <td>No hate or offensive</td>\n",
              "    </tr>\n",
              "    <tr>\n",
              "      <th>1</th>\n",
              "      <td>rt mleew17 boy dat coldtyga dwn bad cuffin da...</td>\n",
              "      <td>Offensive Language</td>\n",
              "    </tr>\n",
              "    <tr>\n",
              "      <th>2</th>\n",
              "      <td>rt urkindofbrand dawg rt 80sbaby4lif ever fuc...</td>\n",
              "      <td>Offensive Language</td>\n",
              "    </tr>\n",
              "    <tr>\n",
              "      <th>3</th>\n",
              "      <td>rt cganderson vivabas look like tranni</td>\n",
              "      <td>Offensive Language</td>\n",
              "    </tr>\n",
              "    <tr>\n",
              "      <th>4</th>\n",
              "      <td>rt shenikarobert shit hear might true might f...</td>\n",
              "      <td>Offensive Language</td>\n",
              "    </tr>\n",
              "    <tr>\n",
              "      <th>...</th>\n",
              "      <td>...</td>\n",
              "      <td>...</td>\n",
              "    </tr>\n",
              "    <tr>\n",
              "      <th>24778</th>\n",
              "      <td>yous muthafin lie 8220lifeask 20pearl coreyema...</td>\n",
              "      <td>Offensive Language</td>\n",
              "    </tr>\n",
              "    <tr>\n",
              "      <th>24779</th>\n",
              "      <td>youv gone broke wrong heart babi drove redneck...</td>\n",
              "      <td>No hate or offensive</td>\n",
              "    </tr>\n",
              "    <tr>\n",
              "      <th>24780</th>\n",
              "      <td>young buck wanna eat dat nigguh like aint fuck...</td>\n",
              "      <td>Offensive Language</td>\n",
              "    </tr>\n",
              "    <tr>\n",
              "      <th>24781</th>\n",
              "      <td>youu got wild bitch tellin lie</td>\n",
              "      <td>Offensive Language</td>\n",
              "    </tr>\n",
              "    <tr>\n",
              "      <th>24782</th>\n",
              "      <td>ruffl  ntac eileen dahlia  beauti color combin...</td>\n",
              "      <td>No hate or offensive</td>\n",
              "    </tr>\n",
              "  </tbody>\n",
              "</table>\n",
              "<p>24783 rows × 2 columns</p>\n",
              "</div>"
            ],
            "text/plain": [
              "                                                   tweet                labels\n",
              "0       rt mayasolov woman shouldnt complain clean ho...  No hate or offensive\n",
              "1       rt mleew17 boy dat coldtyga dwn bad cuffin da...    Offensive Language\n",
              "2       rt urkindofbrand dawg rt 80sbaby4lif ever fuc...    Offensive Language\n",
              "3                 rt cganderson vivabas look like tranni    Offensive Language\n",
              "4       rt shenikarobert shit hear might true might f...    Offensive Language\n",
              "...                                                  ...                   ...\n",
              "24778  yous muthafin lie 8220lifeask 20pearl coreyema...    Offensive Language\n",
              "24779  youv gone broke wrong heart babi drove redneck...  No hate or offensive\n",
              "24780  young buck wanna eat dat nigguh like aint fuck...    Offensive Language\n",
              "24781                     youu got wild bitch tellin lie    Offensive Language\n",
              "24782  ruffl  ntac eileen dahlia  beauti color combin...  No hate or offensive\n",
              "\n",
              "[24783 rows x 2 columns]"
            ]
          },
          "execution_count": 16,
          "metadata": {},
          "output_type": "execute_result"
        }
      ],
      "source": [
        "data"
      ]
    },
    {
      "cell_type": "code",
      "execution_count": null,
      "id": "4648d551-9eaa-487e-9886-594f974b5768",
      "metadata": {
        "id": "4648d551-9eaa-487e-9886-594f974b5768",
        "outputId": "51df6ed3-78fd-4df6-c008-6b1628f08193"
      },
      "outputs": [
        {
          "data": {
            "text/plain": [
              "labels\n",
              "Offensive Language      19190\n",
              "No hate or offensive     4163\n",
              "Hate Speech              1430\n",
              "Name: count, dtype: int64"
            ]
          },
          "execution_count": 17,
          "metadata": {},
          "output_type": "execute_result"
        }
      ],
      "source": [
        "data['labels'].value_counts()"
      ]
    },
    {
      "cell_type": "code",
      "execution_count": null,
      "id": "98a6cb6e-cb5f-40af-ba62-0d1a8efedd8c",
      "metadata": {
        "id": "98a6cb6e-cb5f-40af-ba62-0d1a8efedd8c",
        "outputId": "5d4d8a62-4397-4696-f4cd-97a1bef7dac5"
      },
      "outputs": [
        {
          "name": "stdout",
          "output_type": "stream",
          "text": [
            "labels\n",
            "Hate Speech             4163\n",
            "No hate or offensive    4163\n",
            "Offensive Language      4163\n",
            "Name: count, dtype: int64\n"
          ]
        }
      ],
      "source": [
        "# Separate each class\n",
        "class_0 = data[data['labels'] == 'Offensive Language']        # 19,190\n",
        "class_1 = data[data['labels'] == 'No hate or offensive']      # 4,163\n",
        "class_2 = data[data['labels'] == 'Hate Speech']               # 1,430\n",
        "\n",
        "# Target size\n",
        "target_size = len(class_1)  # 4,163\n",
        "\n",
        "# Downsample Offensive Language\n",
        "class_0_balanced = class_0.sample(n=target_size, random_state=42)\n",
        "\n",
        "# Upsample Hate Speech\n",
        "class_2_balanced = class_2.sample(n=target_size, replace=True, random_state=42)\n",
        "\n",
        "# Combine and shuffle\n",
        "balanced_data = pd.concat([class_0_balanced, class_1, class_2_balanced])\n",
        "balanced_data = balanced_data.sample(frac=1, random_state=42).reset_index(drop=True)\n",
        "\n",
        "# Check new class distribution\n",
        "print(balanced_data['labels'].value_counts())"
      ]
    },
    {
      "cell_type": "markdown",
      "id": "9-bSR5k19l2N",
      "metadata": {
        "id": "9-bSR5k19l2N"
      },
      "source": [
        "### 6. Use of Tokenizer"
      ]
    },
    {
      "cell_type": "code",
      "execution_count": null,
      "id": "D4M-ULvj9I-B",
      "metadata": {
        "id": "D4M-ULvj9I-B"
      },
      "outputs": [],
      "source": [
        "token.fit_on_texts(balanced_data['tweet'])"
      ]
    },
    {
      "cell_type": "code",
      "execution_count": null,
      "id": "geMc-ZP09RRI",
      "metadata": {
        "colab": {
          "base_uri": "https://localhost:8080/"
        },
        "id": "geMc-ZP09RRI",
        "outputId": "1adf0b9d-7702-412f-95f7-3fe21d6896ea"
      },
      "outputs": [
        {
          "data": {
            "text/plain": [
              "[('<nothing>', 1),\n",
              " ('rt', 2),\n",
              " ('bitch', 3),\n",
              " ('like', 4),\n",
              " ('hoe', 5),\n",
              " ('trash', 6),\n",
              " ('fuck', 7),\n",
              " ('nigga', 8),\n",
              " ('im', 9),\n",
              " ('get', 10),\n",
              " ('dont', 11),\n",
              " ('faggot', 12),\n",
              " ('ass', 13),\n",
              " ('pussi', 14),\n",
              " ('u', 15),\n",
              " ('got', 16),\n",
              " ('nigger', 17),\n",
              " ('bird', 18),\n",
              " ('white', 19),\n",
              " ('lol', 20)]"
            ]
          },
          "execution_count": 20,
          "metadata": {},
          "output_type": "execute_result"
        }
      ],
      "source": [
        "list(token.word_index.items())[0:20]  #index of each word(fomaton of vocab)"
      ]
    },
    {
      "cell_type": "code",
      "execution_count": null,
      "id": "vVBg5MFf9TVH",
      "metadata": {
        "colab": {
          "base_uri": "https://localhost:8080/"
        },
        "id": "vVBg5MFf9TVH",
        "outputId": "aa9a351e-9d66-44dc-dc90-02843dc5a45f"
      },
      "outputs": [
        {
          "data": {
            "text/plain": [
              "[('your', 353),\n",
              " ('faggot', 743),\n",
              " ('fuckhead', 7),\n",
              " ('entmagazin', 1),\n",
              " ('magisto', 1),\n",
              " ('digitalskept', 1),\n",
              " ('project', 10),\n",
              " ('could', 86),\n",
              " ('lead', 16),\n",
              " ('militari', 7),\n",
              " ('program', 3),\n",
              " ('requir', 3),\n",
              " ('full', 92),\n",
              " ('op', 6),\n",
              " ('mock', 96),\n",
              " ('test', 15),\n",
              " ('video', 66),\n",
              " ('charli', 258),\n",
              " ('baker', 23),\n",
              " ('campaign', 6)]"
            ]
          },
          "execution_count": 21,
          "metadata": {},
          "output_type": "execute_result"
        }
      ],
      "source": [
        "list(token.word_counts.items())[0:20]  #frequency of word counts"
      ]
    },
    {
      "cell_type": "code",
      "execution_count": null,
      "id": "sb8gJmUV9Y2G",
      "metadata": {
        "colab": {
          "base_uri": "https://localhost:8080/"
        },
        "id": "sb8gJmUV9Y2G",
        "outputId": "a6e42108-0327-4ea7-b4f6-3bc3ad93278e"
      },
      "outputs": [
        {
          "data": {
            "text/plain": [
              "12489"
            ]
          },
          "execution_count": 22,
          "metadata": {},
          "output_type": "execute_result"
        }
      ],
      "source": [
        "token.document_count     # count of no. of sentences in document"
      ]
    },
    {
      "cell_type": "code",
      "execution_count": null,
      "id": "cyrzaoLM-Yql",
      "metadata": {
        "colab": {
          "base_uri": "https://localhost:8080/"
        },
        "id": "cyrzaoLM-Yql",
        "outputId": "157952c2-f922-4e5e-cc7e-ada2507a37e4"
      },
      "outputs": [
        {
          "data": {
            "text/plain": [
              "[[29, 12, 1971],\n",
              " [7454, 7455, 7456, 1426, 181, 956, 1972, 4051, 4052, 165, 2267, 159, 1018],\n",
              " [227, 46, 677, 2268, 221, 2269, 1083, 1427, 1150, 734],\n",
              " [49, 41, 1428, 1084, 12, 213, 2270],\n",
              " [3249, 1567, 1973],\n",
              " [7, 2668, 3],\n",
              " [32, 131, 105, 7457, 94, 28, 132, 178, 766, 703],\n",
              " [4053, 33, 3250, 121, 354, 3250, 121, 44, 121, 704, 3251, 7458],\n",
              " [902, 9, 301, 11, 122, 82, 23, 289, 2669, 289, 55],\n",
              " [2,\n",
              "  7459,\n",
              "  5226,\n",
              "  2670,\n",
              "  1568,\n",
              "  597,\n",
              "  23,\n",
              "  7460,\n",
              "  166,\n",
              "  185,\n",
              "  25,\n",
              "  164,\n",
              "  108,\n",
              "  5,\n",
              "  302,\n",
              "  2670],\n",
              " [2, 3252, 3, 2271, 1974, 4, 5227],\n",
              " [35, 3, 534, 462, 96, 141, 96, 2272, 649, 50, 618, 345],\n",
              " [50, 847, 105, 84, 83, 903, 1569, 40, 1233, 1019, 135, 3253, 1429],\n",
              " [1430, 73, 678, 355, 7461, 26, 1020, 3, 11, 30],\n",
              " [4054, 3, 8, 2671, 132, 55, 15, 705, 14, 7462, 15, 705, 14],\n",
              " [5228, 29, 85, 3],\n",
              " [44, 30, 356, 10, 7463, 848, 4, 557, 2672, 7464],\n",
              " [25, 37, 6, 143, 37, 1730],\n",
              " [619, 1328, 767, 1975, 768, 1329, 371],\n",
              " [2, 7465, 7466, 1731, 5229, 769, 94, 450, 463, 1976, 240, 7467, 515]]"
            ]
          },
          "execution_count": 23,
          "metadata": {},
          "output_type": "execute_result"
        }
      ],
      "source": [
        "sequence= token.texts_to_sequences(balanced_data['tweet'])    # generation of sequence for every sentence\n",
        "sequence[0:20]"
      ]
    },
    {
      "cell_type": "code",
      "execution_count": null,
      "id": "B2ifzfd7-dt3",
      "metadata": {
        "id": "B2ifzfd7-dt3"
      },
      "outputs": [],
      "source": [
        "from keras.utils import pad_sequences"
      ]
    },
    {
      "cell_type": "code",
      "execution_count": null,
      "id": "IOxQfhcc-7cj",
      "metadata": {
        "id": "IOxQfhcc-7cj"
      },
      "outputs": [],
      "source": [
        "sequence= pad_sequences(sequence,padding='post')"
      ]
    },
    {
      "cell_type": "code",
      "execution_count": null,
      "id": "wNTchFOz-9DP",
      "metadata": {
        "colab": {
          "base_uri": "https://localhost:8080/"
        },
        "id": "wNTchFOz-9DP",
        "outputId": "4065fdb0-47a1-4226-e01c-e50efa1783ca"
      },
      "outputs": [
        {
          "data": {
            "text/plain": [
              "array([[   29,    12,  1971, ...,     0,     0,     0],\n",
              "       [ 7454,  7455,  7456, ...,     0,     0,     0],\n",
              "       [  227,    46,   677, ...,     0,     0,     0],\n",
              "       ...,\n",
              "       [ 5756,   507,   273, ...,     0,     0,     0],\n",
              "       [  550,    41,    29, ...,     0,     0,     0],\n",
              "       [    2, 19131,   180, ...,     0,     0,     0]])"
            ]
          },
          "execution_count": 26,
          "metadata": {},
          "output_type": "execute_result"
        }
      ],
      "source": [
        "sequence"
      ]
    },
    {
      "cell_type": "markdown",
      "id": "zLQFfJpy_HVB",
      "metadata": {
        "id": "zLQFfJpy_HVB"
      },
      "source": [
        "## Sentiment Analysis of Tweets"
      ]
    },
    {
      "cell_type": "code",
      "execution_count": null,
      "id": "UevZ_aqo_BYx",
      "metadata": {
        "id": "UevZ_aqo_BYx"
      },
      "outputs": [],
      "source": [
        "from keras import Sequential\n",
        "from keras.layers import Dense,SimpleRNN,Embedding,Flatten,Dropout\n",
        "from sklearn.model_selection import train_test_split"
      ]
    },
    {
      "cell_type": "code",
      "execution_count": null,
      "id": "syZhVBUi_U1d",
      "metadata": {
        "id": "syZhVBUi_U1d"
      },
      "outputs": [],
      "source": [
        "X = sequence\n",
        "Y = np.array(balanced_data[\"labels\"])"
      ]
    },
    {
      "cell_type": "code",
      "execution_count": null,
      "id": "MTl2FKUD_l56",
      "metadata": {
        "id": "MTl2FKUD_l56"
      },
      "outputs": [],
      "source": [
        "X_train, X_test, Y_train, Y_test = train_test_split(X, Y, test_size=0.33, random_state=42)"
      ]
    },
    {
      "cell_type": "code",
      "execution_count": null,
      "id": "pJtRppTY_9Kp",
      "metadata": {
        "colab": {
          "base_uri": "https://localhost:8080/"
        },
        "id": "pJtRppTY_9Kp",
        "outputId": "37db7b63-c2e6-49d4-daf1-3d4207b1dccc"
      },
      "outputs": [
        {
          "data": {
            "text/plain": [
              "array([[   2, 9697, 1462, ...,    0,    0,    0],\n",
              "       [1106, 1173, 2022, ...,    0,    0,    0],\n",
              "       [8639,   17,    0, ...,    0,    0,    0],\n",
              "       ...,\n",
              "       [6683, 1130, 6684, ...,    0,    0,    0],\n",
              "       [5524, 3434, 4246, ...,    0,    0,    0],\n",
              "       [3460,   81,   31, ...,    0,    0,    0]])"
            ]
          },
          "execution_count": 30,
          "metadata": {},
          "output_type": "execute_result"
        }
      ],
      "source": [
        "X_train"
      ]
    },
    {
      "cell_type": "code",
      "execution_count": null,
      "id": "mUHW6T7O__8S",
      "metadata": {
        "colab": {
          "base_uri": "https://localhost:8080/"
        },
        "id": "mUHW6T7O__8S",
        "outputId": "7ef83b66-4810-4ed0-a2b9-e826a17b6328"
      },
      "outputs": [
        {
          "data": {
            "text/plain": [
              "(8367, 26)"
            ]
          },
          "execution_count": 31,
          "metadata": {},
          "output_type": "execute_result"
        }
      ],
      "source": [
        "X_train.shape"
      ]
    },
    {
      "cell_type": "code",
      "execution_count": null,
      "id": "d668c598-9ff1-443b-9550-b6e15934280d",
      "metadata": {
        "id": "d668c598-9ff1-443b-9550-b6e15934280d"
      },
      "outputs": [],
      "source": [
        "# Creating Early stopping\n",
        "from keras.callbacks import EarlyStopping\n",
        "\n",
        "early_stop = EarlyStopping(monitor='val_loss', patience=3, restore_best_weights=True)"
      ]
    },
    {
      "cell_type": "code",
      "execution_count": null,
      "id": "lJ0SdPyQAKM8",
      "metadata": {
        "colab": {
          "base_uri": "https://localhost:8080/",
          "height": 248
        },
        "id": "lJ0SdPyQAKM8",
        "outputId": "9bf60a82-eb04-4184-9f33-403aa1ad02a7"
      },
      "outputs": [
        {
          "name": "stderr",
          "output_type": "stream",
          "text": [
            "C:\\Users\\rajse\\anaconda3\\Lib\\site-packages\\keras\\src\\layers\\rnn\\rnn.py:200: UserWarning: Do not pass an `input_shape`/`input_dim` argument to a layer. When using Sequential models, prefer using an `Input(shape)` object as the first layer in the model instead.\n",
            "  super().__init__(**kwargs)\n"
          ]
        },
        {
          "data": {
            "text/html": [
              "<pre style=\"white-space:pre;overflow-x:auto;line-height:normal;font-family:Menlo,'DejaVu Sans Mono',consolas,'Courier New',monospace\"><span style=\"font-weight: bold\">Model: \"sequential\"</span>\n",
              "</pre>\n"
            ],
            "text/plain": [
              "\u001b[1mModel: \"sequential\"\u001b[0m\n"
            ]
          },
          "metadata": {},
          "output_type": "display_data"
        },
        {
          "data": {
            "text/html": [
              "<pre style=\"white-space:pre;overflow-x:auto;line-height:normal;font-family:Menlo,'DejaVu Sans Mono',consolas,'Courier New',monospace\">┏━━━━━━━━━━━━━━━━━━━━━━━━━━━━━━━━━━━━━━┳━━━━━━━━━━━━━━━━━━━━━━━━━━━━━┳━━━━━━━━━━━━━━━━━┓\n",
              "┃<span style=\"font-weight: bold\"> Layer (type)                         </span>┃<span style=\"font-weight: bold\"> Output Shape                </span>┃<span style=\"font-weight: bold\">         Param # </span>┃\n",
              "┡━━━━━━━━━━━━━━━━━━━━━━━━━━━━━━━━━━━━━━╇━━━━━━━━━━━━━━━━━━━━━━━━━━━━━╇━━━━━━━━━━━━━━━━━┩\n",
              "│ embedding (<span style=\"color: #0087ff; text-decoration-color: #0087ff\">Embedding</span>)                │ (<span style=\"color: #00d7ff; text-decoration-color: #00d7ff\">None</span>, <span style=\"color: #00af00; text-decoration-color: #00af00\">26</span>, <span style=\"color: #00af00; text-decoration-color: #00af00\">100</span>)             │       <span style=\"color: #00af00; text-decoration-color: #00af00\">1,913,300</span> │\n",
              "├──────────────────────────────────────┼─────────────────────────────┼─────────────────┤\n",
              "│ simple_rnn (<span style=\"color: #0087ff; text-decoration-color: #0087ff\">SimpleRNN</span>)               │ (<span style=\"color: #00d7ff; text-decoration-color: #00d7ff\">None</span>, <span style=\"color: #00af00; text-decoration-color: #00af00\">64</span>)                  │          <span style=\"color: #00af00; text-decoration-color: #00af00\">10,560</span> │\n",
              "├──────────────────────────────────────┼─────────────────────────────┼─────────────────┤\n",
              "│ dropout (<span style=\"color: #0087ff; text-decoration-color: #0087ff\">Dropout</span>)                    │ (<span style=\"color: #00d7ff; text-decoration-color: #00d7ff\">None</span>, <span style=\"color: #00af00; text-decoration-color: #00af00\">64</span>)                  │               <span style=\"color: #00af00; text-decoration-color: #00af00\">0</span> │\n",
              "├──────────────────────────────────────┼─────────────────────────────┼─────────────────┤\n",
              "│ dense (<span style=\"color: #0087ff; text-decoration-color: #0087ff\">Dense</span>)                        │ (<span style=\"color: #00d7ff; text-decoration-color: #00d7ff\">None</span>, <span style=\"color: #00af00; text-decoration-color: #00af00\">3</span>)                   │             <span style=\"color: #00af00; text-decoration-color: #00af00\">195</span> │\n",
              "└──────────────────────────────────────┴─────────────────────────────┴─────────────────┘\n",
              "</pre>\n"
            ],
            "text/plain": [
              "┏━━━━━━━━━━━━━━━━━━━━━━━━━━━━━━━━━━━━━━┳━━━━━━━━━━━━━━━━━━━━━━━━━━━━━┳━━━━━━━━━━━━━━━━━┓\n",
              "┃\u001b[1m \u001b[0m\u001b[1mLayer (type)                        \u001b[0m\u001b[1m \u001b[0m┃\u001b[1m \u001b[0m\u001b[1mOutput Shape               \u001b[0m\u001b[1m \u001b[0m┃\u001b[1m \u001b[0m\u001b[1m        Param #\u001b[0m\u001b[1m \u001b[0m┃\n",
              "┡━━━━━━━━━━━━━━━━━━━━━━━━━━━━━━━━━━━━━━╇━━━━━━━━━━━━━━━━━━━━━━━━━━━━━╇━━━━━━━━━━━━━━━━━┩\n",
              "│ embedding (\u001b[38;5;33mEmbedding\u001b[0m)                │ (\u001b[38;5;45mNone\u001b[0m, \u001b[38;5;34m26\u001b[0m, \u001b[38;5;34m100\u001b[0m)             │       \u001b[38;5;34m1,913,300\u001b[0m │\n",
              "├──────────────────────────────────────┼─────────────────────────────┼─────────────────┤\n",
              "│ simple_rnn (\u001b[38;5;33mSimpleRNN\u001b[0m)               │ (\u001b[38;5;45mNone\u001b[0m, \u001b[38;5;34m64\u001b[0m)                  │          \u001b[38;5;34m10,560\u001b[0m │\n",
              "├──────────────────────────────────────┼─────────────────────────────┼─────────────────┤\n",
              "│ dropout (\u001b[38;5;33mDropout\u001b[0m)                    │ (\u001b[38;5;45mNone\u001b[0m, \u001b[38;5;34m64\u001b[0m)                  │               \u001b[38;5;34m0\u001b[0m │\n",
              "├──────────────────────────────────────┼─────────────────────────────┼─────────────────┤\n",
              "│ dense (\u001b[38;5;33mDense\u001b[0m)                        │ (\u001b[38;5;45mNone\u001b[0m, \u001b[38;5;34m3\u001b[0m)                   │             \u001b[38;5;34m195\u001b[0m │\n",
              "└──────────────────────────────────────┴─────────────────────────────┴─────────────────┘\n"
            ]
          },
          "metadata": {},
          "output_type": "display_data"
        },
        {
          "data": {
            "text/html": [
              "<pre style=\"white-space:pre;overflow-x:auto;line-height:normal;font-family:Menlo,'DejaVu Sans Mono',consolas,'Courier New',monospace\"><span style=\"font-weight: bold\"> Total params: </span><span style=\"color: #00af00; text-decoration-color: #00af00\">1,924,055</span> (7.34 MB)\n",
              "</pre>\n"
            ],
            "text/plain": [
              "\u001b[1m Total params: \u001b[0m\u001b[38;5;34m1,924,055\u001b[0m (7.34 MB)\n"
            ]
          },
          "metadata": {},
          "output_type": "display_data"
        },
        {
          "data": {
            "text/html": [
              "<pre style=\"white-space:pre;overflow-x:auto;line-height:normal;font-family:Menlo,'DejaVu Sans Mono',consolas,'Courier New',monospace\"><span style=\"font-weight: bold\"> Trainable params: </span><span style=\"color: #00af00; text-decoration-color: #00af00\">1,924,055</span> (7.34 MB)\n",
              "</pre>\n"
            ],
            "text/plain": [
              "\u001b[1m Trainable params: \u001b[0m\u001b[38;5;34m1,924,055\u001b[0m (7.34 MB)\n"
            ]
          },
          "metadata": {},
          "output_type": "display_data"
        },
        {
          "data": {
            "text/html": [
              "<pre style=\"white-space:pre;overflow-x:auto;line-height:normal;font-family:Menlo,'DejaVu Sans Mono',consolas,'Courier New',monospace\"><span style=\"font-weight: bold\"> Non-trainable params: </span><span style=\"color: #00af00; text-decoration-color: #00af00\">0</span> (0.00 B)\n",
              "</pre>\n"
            ],
            "text/plain": [
              "\u001b[1m Non-trainable params: \u001b[0m\u001b[38;5;34m0\u001b[0m (0.00 B)\n"
            ]
          },
          "metadata": {},
          "output_type": "display_data"
        }
      ],
      "source": [
        "# create sequential layer\n",
        "from keras import Input\n",
        "from keras.regularizers import l2\n",
        "\n",
        "vocab_size = len(token.word_index) + 1\n",
        "model = Sequential()\n",
        "model.add(Input(shape=(X.shape[1],)))  # Explicit input shape\n",
        "model.add(Embedding(input_dim=vocab_size, output_dim=100))\n",
        "model.add(SimpleRNN(64,input_shape=(X.shape[1],1),return_sequences=False, kernel_regularizer=l2(0.001)))\n",
        "model.add(Dropout(0.5))\n",
        "model.add(Dense(3, activation='softmax'))\n",
        "model.summary()\n"
      ]
    },
    {
      "cell_type": "code",
      "execution_count": null,
      "id": "8VN3ti6zDaon",
      "metadata": {
        "id": "8VN3ti6zDaon"
      },
      "outputs": [],
      "source": [
        "# one-hot encode the target variables\n",
        "from sklearn.preprocessing import LabelEncoder\n",
        "from keras.utils import to_categorical\n",
        "\n",
        "# Step 1: Encode string labels to integers\n",
        "label_encoder = LabelEncoder()\n",
        "Y_encoded = label_encoder.fit_transform(Y)  # Y should be the original label column (1D)\n",
        "\n",
        "# Step 2: Train-test split\n",
        "X_train, X_test, Y_train, Y_test = train_test_split(X, Y_encoded, test_size=0.33, random_state=42)\n",
        "\n",
        "# Step 3: Convert to one-hot encoding for model input\n",
        "Y_train = to_categorical(Y_train)\n",
        "Y_test = to_categorical(Y_test)"
      ]
    },
    {
      "cell_type": "code",
      "execution_count": null,
      "id": "7TgmteIfAs37",
      "metadata": {
        "colab": {
          "base_uri": "https://localhost:8080/"
        },
        "id": "7TgmteIfAs37",
        "outputId": "d2015019-fb6e-4525-fdad-d8b75af400e2"
      },
      "outputs": [
        {
          "name": "stdout",
          "output_type": "stream",
          "text": [
            "Epoch 1/10\n",
            "\u001b[1m262/262\u001b[0m \u001b[32m━━━━━━━━━━━━━━━━━━━━\u001b[0m\u001b[37m\u001b[0m \u001b[1m18s\u001b[0m 47ms/step - accuracy: 0.5491 - loss: 0.9748 - val_accuracy: 0.8515 - val_loss: 0.4867\n",
            "Epoch 2/10\n",
            "\u001b[1m262/262\u001b[0m \u001b[32m━━━━━━━━━━━━━━━━━━━━\u001b[0m\u001b[37m\u001b[0m \u001b[1m23s\u001b[0m 55ms/step - accuracy: 0.9293 - loss: 0.2975 - val_accuracy: 0.8540 - val_loss: 0.4787\n",
            "Epoch 3/10\n",
            "\u001b[1m262/262\u001b[0m \u001b[32m━━━━━━━━━━━━━━━━━━━━\u001b[0m\u001b[37m\u001b[0m \u001b[1m21s\u001b[0m 56ms/step - accuracy: 0.9747 - loss: 0.1501 - val_accuracy: 0.8552 - val_loss: 0.6361\n",
            "Epoch 4/10\n",
            "\u001b[1m262/262\u001b[0m \u001b[32m━━━━━━━━━━━━━━━━━━━━\u001b[0m\u001b[37m\u001b[0m \u001b[1m15s\u001b[0m 58ms/step - accuracy: 0.9844 - loss: 0.1090 - val_accuracy: 0.8450 - val_loss: 0.6192\n",
            "Epoch 5/10\n",
            "\u001b[1m262/262\u001b[0m \u001b[32m━━━━━━━━━━━━━━━━━━━━\u001b[0m\u001b[37m\u001b[0m \u001b[1m21s\u001b[0m 59ms/step - accuracy: 0.9855 - loss: 0.0875 - val_accuracy: 0.8588 - val_loss: 0.5907\n"
          ]
        }
      ],
      "source": [
        "from tensorflow import keras\n",
        "# Compile the model\n",
        "model.compile(loss=keras.losses.CategoricalCrossentropy(), optimizer='adam', metrics=['accuracy'])\n",
        "# Fit the model\n",
        "history = model.fit(X_train,Y_train,epochs=10,validation_data=(X_test,Y_test),callbacks=[early_stop])"
      ]
    },
    {
      "cell_type": "markdown",
      "id": "5UXWVMY-GGAg",
      "metadata": {
        "id": "5UXWVMY-GGAg"
      },
      "source": [
        "### Visualization of Accuracy"
      ]
    },
    {
      "cell_type": "code",
      "execution_count": null,
      "id": "hFNeqzhUF6Ct",
      "metadata": {
        "colab": {
          "base_uri": "https://localhost:8080/",
          "height": 472
        },
        "id": "hFNeqzhUF6Ct",
        "outputId": "e9771e8f-5134-4860-e9dc-5dac2cbb20f5"
      },
      "outputs": [
        {
          "data": {
            "image/png": "[encoded data removed]",
            "text/plain": [
              "<Figure size 640x480 with 1 Axes>"
            ]
          },
          "metadata": {},
          "output_type": "display_data"
        }
      ],
      "source": [
        "import matplotlib.pyplot as plt\n",
        "\n",
        "# Access the accuracy history\n",
        "plt.plot(history.history['accuracy'],color='red',label='train')\n",
        "plt.plot(history.history['val_accuracy'],color='blue',label='validation')\n",
        "\n",
        "plt.title('Training and Validation Accuracy')\n",
        "plt.xlabel('Epochs')\n",
        "plt.ylabel('Accuracy')\n",
        "plt.legend()\n",
        "plt.show()"
      ]
    },
    {
      "cell_type": "markdown",
      "id": "O16Ob26uHA0n",
      "metadata": {
        "id": "O16Ob26uHA0n"
      },
      "source": [
        "### Visualization of Loss"
      ]
    },
    {
      "cell_type": "code",
      "execution_count": null,
      "id": "IDS5t6aIGd1Z",
      "metadata": {
        "colab": {
          "base_uri": "https://localhost:8080/",
          "height": 472
        },
        "id": "IDS5t6aIGd1Z",
        "outputId": "ccc29a2a-97a0-47f5-dba4-47b33201dff6"
      },
      "outputs": [
        {
          "data": {
            "image/png": "[encoded data removed]",
            "text/plain": [
              "<Figure size 640x480 with 1 Axes>"
            ]
          },
          "metadata": {},
          "output_type": "display_data"
        }
      ],
      "source": [
        "plt.plot(history.history['loss'],color='red',label='train')\n",
        "plt.plot(history.history['val_loss'],color='blue',label='validation')\n",
        "\n",
        "plt.title('Training and Validation Loss')\n",
        "plt.xlabel('Epochs')\n",
        "plt.ylabel('Loss')\n",
        "plt.legend()\n",
        "plt.show()"
      ]
    },
    {
      "cell_type": "markdown",
      "id": "Tb2tU4_6HcEU",
      "metadata": {
        "id": "Tb2tU4_6HcEU"
      },
      "source": [
        "### Sample Testing"
      ]
    },
    {
      "cell_type": "code",
      "execution_count": null,
      "id": "ALqb_NVbHeZa",
      "metadata": {
        "id": "ALqb_NVbHeZa"
      },
      "outputs": [],
      "source": [
        "sample = \"I'll kill you\"\n",
        "sample = clean_data(sample)"
      ]
    },
    {
      "cell_type": "code",
      "execution_count": null,
      "id": "Dda-VkIwHweE",
      "metadata": {
        "colab": {
          "base_uri": "https://localhost:8080/"
        },
        "id": "Dda-VkIwHweE",
        "outputId": "ee6ca193-84f0-49b2-c868-1b1092968880"
      },
      "outputs": [
        {
          "name": "stdout",
          "output_type": "stream",
          "text": [
            "\u001b[1m1/1\u001b[0m \u001b[32m━━━━━━━━━━━━━━━━━━━━\u001b[0m\u001b[37m\u001b[0m \u001b[1m0s\u001b[0m 447ms/step\n",
            "The predicted class for the sample is: Hate Speech\n"
          ]
        }
      ],
      "source": [
        "# Tokenize and pad the sample\n",
        "sample_sequence = token.texts_to_sequences([sample])\n",
        "sample_padded = pad_sequences(sample_sequence, padding='post', maxlen=X_train.shape[1])\n",
        "\n",
        "# Make the prediction\n",
        "prediction = model.predict(sample_padded)\n",
        "\n",
        "# Get the predicted class\n",
        "predicted_class_index = np.argmax(prediction)\n",
        "predicted_class = label_encoder.inverse_transform([predicted_class_index])[0]\n",
        "\n",
        "\n",
        "print(f\"The predicted class for the sample is: {predicted_class}\")\n"
      ]
    },
    {
      "cell_type": "code",
      "execution_count": null,
      "id": "6J2QxaWAIR5A",
      "metadata": {
        "id": "6J2QxaWAIR5A"
      },
      "outputs": [],
      "source": []
    }
  ],
  "metadata": {
    "colab": {
      "provenance": [],
      "include_colab_link": true
    },
    "kernelspec": {
      "display_name": "Python 3 (ipykernel)",
      "language": "python",
      "name": "python3"
    },
    "language_info": {
      "codemirror_mode": {
        "name": "ipython",
        "version": 3
      },
      "file_extension": ".py",
      "mimetype": "text/x-python",
      "name": "python",
      "nbconvert_exporter": "python",
      "pygments_lexer": "ipython3",
      "version": "3.12.4"
    }
  },
  "nbformat": 4,
  "nbformat_minor": 5
}